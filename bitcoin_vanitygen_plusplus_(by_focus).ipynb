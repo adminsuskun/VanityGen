{
  "cells": [
    {
      "cell_type": "markdown",
      "metadata": {
        "id": "hKThqLVDeYqp"
      },
      "source": [
        "# **Google Drive:**"
      ]
    },
    {
      "cell_type": "code",
      "execution_count": 1,
      "metadata": {
        "id": "m6SVREgMeHyF",
        "colab": {
          "base_uri": "https://localhost:8080/"
        },
        "outputId": "ea81aff4-a876-4f48-96ea-37dfe7d2b961"
      },
      "outputs": [
        {
          "output_type": "stream",
          "name": "stdout",
          "text": [
            "Mounted at /content/drive/\n"
          ]
        }
      ],
      "source": [
        "from google.colab import drive\n",
        "drive.mount('/content/drive/')\n"
      ]
    },
    {
      "cell_type": "markdown",
      "metadata": {
        "id": "ifg1OCQCfOR4"
      },
      "source": [
        "# **Catalog (drive/MyDrive/vanitygen/focus):**"
      ]
    },
    {
      "cell_type": "code",
      "execution_count": 2,
      "metadata": {
        "id": "CdMeojV7fi_j",
        "colab": {
          "base_uri": "https://localhost:8080/"
        },
        "outputId": "f0a5ff3d-f7d1-4faf-ad0c-9faad2f27d79"
      },
      "outputs": [
        {
          "output_type": "stream",
          "name": "stdout",
          "text": [
            "/content/drive/MyDrive/vanitygen/focus\n"
          ]
        }
      ],
      "source": [
        "cd drive/MyDrive/vanitygen/focus"
      ]
    },
    {
      "cell_type": "code",
      "source": [
        "!chmod +x focusvanity\n",
        "!chmod +x scan5.sh\n",
        "!chmod +x scan10.sh\n",
        "!chmod +x scan20.sh\n",
        "!chmod +x scan30.sh\n",
        "!chmod +x scan66.sh\n",
        "!chmod +x scan67.sh\n",
        "!chmod +x scan68.sh\n",
        "!chmod +x scan69.sh\n",
        "!chmod +x scan71.sh\n",
        "!./focusvanity -h"
      ],
      "metadata": {
        "id": "7U7GskbQo5IW"
      },
      "execution_count": null,
      "outputs": []
    },
    {
      "cell_type": "markdown",
      "metadata": {
        "id": "yldtVTFRetr3"
      },
      "source": [
        "# **Start:**\n",
        "\n",
        "puzzel 5 and 10 and 20 and 30 for test"
      ]
    },
    {
      "cell_type": "markdown",
      "source": [
        "Bitcoin Puzzle 5 ==> 1E6NuFjCi27W5zoXg8TRdcSRq84zJeBW3k"
      ],
      "metadata": {
        "id": "h19imWREkrRh"
      }
    },
    {
      "cell_type": "code",
      "source": [
        "!./scan5.sh"
      ],
      "metadata": {
        "id": "aetTwlT4lFBh"
      },
      "execution_count": null,
      "outputs": []
    },
    {
      "cell_type": "markdown",
      "source": [
        "Bitcoin Puzzle 10 ==> 1LeBZP5QCwwgXRtmVUvTVrraqPUokyLHqe \n"
      ],
      "metadata": {
        "id": "1GoxYYRfkCVa"
      }
    },
    {
      "cell_type": "code",
      "execution_count": null,
      "metadata": {
        "id": "-2gt2Yw7eVC7"
      },
      "outputs": [],
      "source": [
        "!./scan10.sh"
      ]
    },
    {
      "cell_type": "markdown",
      "source": [
        "Bitcoin Puzzle 20 ==> 1HsMJxNiV7TLxmoF6uJNkydxPFDog4NQum"
      ],
      "metadata": {
        "id": "_QjabQP2lSPx"
      }
    },
    {
      "cell_type": "code",
      "execution_count": null,
      "metadata": {
        "id": "aunQYEsteUsW"
      },
      "outputs": [],
      "source": [
        "!./scan20.sh"
      ]
    },
    {
      "cell_type": "markdown",
      "source": [
        "Bitcoin Puzzle 30 ==>1LhE6sCTuGae42Axu1L1ZB7L96yi9irEBE"
      ],
      "metadata": {
        "id": "rAZKc9tkliuZ"
      }
    },
    {
      "cell_type": "code",
      "source": [
        "!./scan30.sh"
      ],
      "metadata": {
        "id": "G-4Ij7XWlsgh"
      },
      "execution_count": null,
      "outputs": []
    },
    {
      "cell_type": "markdown",
      "source": [
        "# UNSolved bitcoin puzzle\n",
        "\n",
        "try to crack bitcoin unsloved puzzle \n",
        "\n",
        "google colab free have low speed. but you can try with google colab pro\n",
        "\n",
        "i try make another version and high speed\n",
        "\n",
        "Donations : bc1q962duatv26hzw080uxu65damn06l5pgsdnx6lt"
      ],
      "metadata": {
        "id": "-aPWI7halzzx"
      }
    },
    {
      "cell_type": "markdown",
      "source": [
        "# Bitcoin Puzzle 66 ==> 13zb1hQbWVsc2S7ZTZnP2G4undNNpdh5so\n",
        "\n",
        "balance = 0.66008749 btc\n",
        "\n",
        "https://explorer.btc.com/btc/address/13zb1hQbWVsc2S7ZTZnP2G4undNNpdh5so"
      ],
      "metadata": {
        "id": "gSWroa1bmyvn"
      }
    },
    {
      "cell_type": "code",
      "source": [
        "!./scan66.sh"
      ],
      "metadata": {
        "id": "NKQFeUAenNgw"
      },
      "execution_count": null,
      "outputs": []
    },
    {
      "cell_type": "markdown",
      "source": [
        "# Bitcoin Puzzle 67 ==> 1BY8GQbnueYofwSuFAT3USAhGjPrkxDdW9\n",
        "\n",
        "balance =0.67000000 btc\n",
        "\n",
        "https://explorer.btc.com/btc/address/1BY8GQbnueYofwSuFAT3USAhGjPrkxDdW9"
      ],
      "metadata": {
        "id": "K98VoP2Im70L"
      }
    },
    {
      "cell_type": "code",
      "source": [
        "!./scan67.sh"
      ],
      "metadata": {
        "id": "dLydPKdpnXkT"
      },
      "execution_count": null,
      "outputs": []
    },
    {
      "cell_type": "markdown",
      "source": [
        "# Bitcoin Puzzle 68 ==>1MVDYgVaSN6iKKEsbzRUAYFrYJadLYZvvZ\n",
        "\n",
        "balance =0.68000000 btc\n",
        "\n",
        "https://explorer.btc.com/btc/address/1MVDYgVaSN6iKKEsbzRUAYFrYJadLYZvvZ\n"
      ],
      "metadata": {
        "id": "otpgKJT-oSPS"
      }
    },
    {
      "cell_type": "code",
      "source": [
        "!./scan68.sh"
      ],
      "metadata": {
        "id": "dc-jwo_HopTD"
      },
      "execution_count": null,
      "outputs": []
    },
    {
      "cell_type": "markdown",
      "source": [
        "# Bitcoin Puzzle 69 ==>19vkiEajfhuZ8bs8Zu2jgmC6oqZbWqhxhG\n",
        "\n",
        "balance =0.69000547 BTC\n",
        "\n",
        "https://explorer.btc.com/btc/address/19vkiEajfhuZ8bs8Zu2jgmC6oqZbWqhxhG"
      ],
      "metadata": {
        "id": "tOX0h3HepZWy"
      }
    },
    {
      "cell_type": "code",
      "source": [
        "!./scan69.sh"
      ],
      "metadata": {
        "id": "KtwARTnFppKD"
      },
      "execution_count": null,
      "outputs": []
    },
    {
      "cell_type": "markdown",
      "source": [
        "# Bitcoin Puzzle 71 ==>1PWo3JeB9jrGwfHDNpdGK54CRas7fsVzXU\n",
        "\n",
        "balance = 0.71000000 BTC\n",
        "\n",
        "https://explorer.btc.com/btc/address/1PWo3JeB9jrGwfHDNpdGK54CRas7fsVzXU"
      ],
      "metadata": {
        "id": "s81G9V7VrfUx"
      }
    },
    {
      "cell_type": "code",
      "source": [
        "!./scan71.sh"
      ],
      "metadata": {
        "id": "PNewgzK_vbrX"
      },
      "execution_count": null,
      "outputs": []
    },
    {
      "cell_type": "markdown",
      "source": [
        "i try add more puzzle latter\n",
        " \n",
        "goodluck"
      ],
      "metadata": {
        "id": "FKDtnYmFyht4"
      }
    },
    {
      "cell_type": "code",
      "source": [],
      "metadata": {
        "id": "IMrVeGlrqR8i"
      },
      "execution_count": null,
      "outputs": []
    }
  ],
  "metadata": {
    "colab": {
      "provenance": []
    },
    "gpuClass": "standard",
    "kernelspec": {
      "display_name": "Python 3",
      "name": "python3"
    },
    "language_info": {
      "name": "python"
    },
    "accelerator": "GPU"
  },
  "nbformat": 4,
  "nbformat_minor": 0
}